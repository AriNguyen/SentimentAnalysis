{
 "cells": [
  {
   "cell_type": "markdown",
   "id": "7b8126ac",
   "metadata": {},
   "source": [
    "# Read and Preprocess 10k Fillings"
   ]
  },
  {
   "cell_type": "code",
   "execution_count": 1,
   "id": "5fe31ecc",
   "metadata": {},
   "outputs": [],
   "source": [
    "import os"
   ]
  },
  {
   "cell_type": "markdown",
   "id": "6a93f652",
   "metadata": {},
   "source": [
    "## 1. Read and Extract information from PDF"
   ]
  },
  {
   "cell_type": "code",
   "execution_count": 2,
   "id": "476ce013",
   "metadata": {},
   "outputs": [],
   "source": [
    "data_folder_path = '/Users/aringuyen/Desktop/CAP/10k-Reports/'\n",
    "filename = 'Starbuck-10k.pdf'\n",
    "file_path = os.path.join(data_folder_path, filename)"
   ]
  },
  {
   "cell_type": "markdown",
   "id": "a63b6562",
   "metadata": {},
   "source": [
    "### Extracting PDF using textract"
   ]
  },
  {
   "cell_type": "code",
   "execution_count": null,
   "id": "ab628549",
   "metadata": {},
   "outputs": [],
   "source": [
    "import textract\n",
    "\n",
    "# extract text from pdf\n",
    "text = textract.process(file_path, method='pdfminer').decode('utf-8')\n",
    "\n",
    "# lower case\n",
    "text = text.lower()"
   ]
  },
  {
   "cell_type": "markdown",
   "id": "bed16603",
   "metadata": {},
   "source": [
    "### Using PyMuPDF"
   ]
  },
  {
   "cell_type": "code",
   "execution_count": 53,
   "id": "c27f7d04",
   "metadata": {},
   "outputs": [],
   "source": [
    "from operator import itemgetter\n",
    "import fitz\n",
    "import json\n",
    "\n",
    "from pdf_retrieval import *"
   ]
  },
  {
   "cell_type": "code",
   "execution_count": 68,
   "id": "b5387ac1",
   "metadata": {
    "scrolled": true
   },
   "outputs": [
    {
     "name": "stdout",
     "output_type": "stream",
     "text": [
      "Number of pages: 171\n",
      "\n",
      "format: PDF 1.4\n",
      "title: 0000829224-20-000078\n",
      "author: EDGAR Online, a division of Donnelley Financial Solutions\n",
      "subject: 10-K\n",
      "keywords: 0000829224-20-000078; ; 10-K\n",
      "creator: EDGAR PDF Generator\n",
      "producer: EDGAR PDF Generator\n",
      "creationDate: D:20201112170136-05'00'\n",
      "modDate: D:20201112170152-05'00'\n",
      "trapped: \n",
      "encryption: Standard V2 R3 128-bit RC4\n"
     ]
    }
   ],
   "source": [
    "doc = fitz.open(file_path)\n",
    "print (\"Number of pages: %i\\n\" % doc.pageCount)\n",
    "\n",
    "for key, val in doc.metadata.items():\n",
    "    print(f'{key}: {val}')"
   ]
  },
  {
   "cell_type": "code",
   "execution_count": 69,
   "id": "12625ad3",
   "metadata": {},
   "outputs": [],
   "source": [
    "font_counts, styles = fonts(doc, granularity=False)\n",
    "\n",
    "size_tag = font_tags(font_counts, styles)\n",
    "\n",
    "elements = headers_para(doc, size_tag)"
   ]
  },
  {
   "cell_type": "code",
   "execution_count": 72,
   "id": "4f65b055",
   "metadata": {
    "scrolled": true
   },
   "outputs": [
    {
     "data": {
      "text/plain": [
       "{19.575000762939453: '<h1>',\n",
       " 16.200000762939453: '<h2>',\n",
       " 14.175000190734863: '<h3>',\n",
       " 10.800000190734863: '<h4>',\n",
       " 10.125: '<h5>',\n",
       " 8.77500057220459: '<p>',\n",
       " 8.100000381469727: '<s1>',\n",
       " 7.425000190734863: '<s2>',\n",
       " 6.75: '<s3>',\n",
       " 6.075000286102295: '<s4>',\n",
       " 4.724999904632568: '<s5>'}"
      ]
     },
     "execution_count": 72,
     "metadata": {},
     "output_type": "execute_result"
    }
   ],
   "source": [
    "size_tag"
   ]
  },
  {
   "cell_type": "code",
   "execution_count": 73,
   "id": "609613f9",
   "metadata": {},
   "outputs": [
    {
     "ename": "ModuleNotFoundError",
     "evalue": "No module named 'tika'",
     "output_type": "error",
     "traceback": [
      "\u001b[0;31m---------------------------------------------------------------------------\u001b[0m",
      "\u001b[0;31mModuleNotFoundError\u001b[0m                       Traceback (most recent call last)",
      "\u001b[0;32m<ipython-input-73-4c90302e3712>\u001b[0m in \u001b[0;36m<module>\u001b[0;34m\u001b[0m\n\u001b[0;32m----> 1\u001b[0;31m \u001b[0;32mimport\u001b[0m \u001b[0mtika\u001b[0m\u001b[0;34m\u001b[0m\u001b[0;34m\u001b[0m\u001b[0m\n\u001b[0m\u001b[1;32m      2\u001b[0m \u001b[0;32mfrom\u001b[0m \u001b[0mtika\u001b[0m \u001b[0;32mimport\u001b[0m \u001b[0mparser\u001b[0m\u001b[0;34m\u001b[0m\u001b[0;34m\u001b[0m\u001b[0m\n\u001b[1;32m      3\u001b[0m \u001b[0;34m\u001b[0m\u001b[0m\n\u001b[1;32m      4\u001b[0m \u001b[0mfilename\u001b[0m \u001b[0;34m=\u001b[0m \u001b[0;34m\"your file name here\"\u001b[0m\u001b[0;34m\u001b[0m\u001b[0;34m\u001b[0m\u001b[0m\n\u001b[1;32m      5\u001b[0m \u001b[0mparsedPDF\u001b[0m \u001b[0;34m=\u001b[0m \u001b[0mparser\u001b[0m\u001b[0;34m.\u001b[0m\u001b[0mfrom_file\u001b[0m\u001b[0;34m(\u001b[0m\u001b[0mfile_name\u001b[0m\u001b[0;34m)\u001b[0m\u001b[0;34m\u001b[0m\u001b[0;34m\u001b[0m\u001b[0m\n",
      "\u001b[0;31mModuleNotFoundError\u001b[0m: No module named 'tika'"
     ]
    }
   ],
   "source": [
    "import tika\n",
    "from tika import parser\n",
    "\n",
    "filename = \"your file name here\"\n",
    "parsedPDF = parser.from_file(file_name)\n",
    "print(parsedPDF['content'])\n",
    "print(parsedPDF['metadata']) # its in a dictionary format. "
   ]
  },
  {
   "cell_type": "markdown",
   "id": "d93f1450",
   "metadata": {},
   "source": [
    "## 2. Preprocessing text"
   ]
  },
  {
   "cell_type": "code",
   "execution_count": null,
   "id": "783d7a1e",
   "metadata": {},
   "outputs": [],
   "source": []
  },
  {
   "cell_type": "markdown",
   "id": "cb511dbb",
   "metadata": {},
   "source": [
    "Steps:\n",
    "1. Remove punctuation\n",
    "2. Remove stopwords\n",
    "3. Stemming"
   ]
  },
  {
   "cell_type": "code",
   "execution_count": null,
   "id": "e64828b1",
   "metadata": {},
   "outputs": [],
   "source": [
    "import nltk\n",
    "from nltk.corpus import stopwords\n",
    "from nltk.tokenize import word_tokenize, RegexpTokenizer\n",
    "from nltk.stem.porter import PorterStemmer\n",
    "\n",
    "from wordcloud import WordCloud\n",
    "import matplotlib.pyplot as plt\n",
    "%matplotlib inline"
   ]
  },
  {
   "cell_type": "code",
   "execution_count": null,
   "id": "f67ac25f",
   "metadata": {},
   "outputs": [],
   "source": [
    "# Remove punctuation\n",
    "tokenizer = RegexpTokenizer(r\"\\w+\")\n",
    "text_tokens = tokenizer.tokenize(text)"
   ]
  },
  {
   "cell_type": "code",
   "execution_count": null,
   "id": "4b86bc82",
   "metadata": {},
   "outputs": [],
   "source": [
    "# remove stop words\n",
    "stopwords = set(stopwords.words('english'))\n",
    "text_tokens_no_stopwords = [word for word in text_tokens if word not in stopwords]"
   ]
  },
  {
   "cell_type": "code",
   "execution_count": null,
   "id": "26361f21",
   "metadata": {},
   "outputs": [],
   "source": [
    "text_tokens_no_stopwords"
   ]
  },
  {
   "cell_type": "code",
   "execution_count": null,
   "id": "ed40ad9e",
   "metadata": {},
   "outputs": [],
   "source": [
    "wordcloud = WordCloud(stopwords=stopwords, background_color=\"skyblue\").generate(text)"
   ]
  },
  {
   "cell_type": "code",
   "execution_count": null,
   "id": "22fc25f1",
   "metadata": {},
   "outputs": [],
   "source": [
    "plt.imshow(wordcloud, interpolation='bilinear')\n",
    "plt.axis(\"off\")\n",
    "plt.savefig('wordcloud11.png')\n",
    "plt.show()"
   ]
  },
  {
   "cell_type": "code",
   "execution_count": null,
   "id": "71f9fb1c",
   "metadata": {},
   "outputs": [],
   "source": [
    "# stemming\n",
    "porter = PorterStemmer()\n",
    "stemmed = [porter.stem(word) for word in text_tokens_no_stopwords]"
   ]
  },
  {
   "cell_type": "code",
   "execution_count": null,
   "id": "0ad78b09",
   "metadata": {},
   "outputs": [],
   "source": [
    "stemmed"
   ]
  },
  {
   "cell_type": "code",
   "execution_count": null,
   "id": "ee97dbe3",
   "metadata": {},
   "outputs": [],
   "source": []
  }
 ],
 "metadata": {
  "kernelspec": {
   "display_name": "Python 3",
   "language": "python",
   "name": "python3"
  },
  "language_info": {
   "codemirror_mode": {
    "name": "ipython",
    "version": 3
   },
   "file_extension": ".py",
   "mimetype": "text/x-python",
   "name": "python",
   "nbconvert_exporter": "python",
   "pygments_lexer": "ipython3",
   "version": "3.8.2"
  }
 },
 "nbformat": 4,
 "nbformat_minor": 5
}
